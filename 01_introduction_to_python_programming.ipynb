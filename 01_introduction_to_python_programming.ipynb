{
 "cells": [
  {
   "cell_type": "markdown",
   "id": "5ed12d65",
   "metadata": {},
   "source": [
    "## Arithmetic Operations using python"
   ]
  },
  {
   "cell_type": "code",
   "execution_count": 1,
   "id": "eff33914",
   "metadata": {},
   "outputs": [
    {
     "data": {
      "text/plain": [
       "14"
      ]
     },
     "execution_count": 1,
     "metadata": {},
     "output_type": "execute_result"
    }
   ],
   "source": [
    "2+3+9"
   ]
  },
  {
   "cell_type": "code",
   "execution_count": 2,
   "id": "ad1d50da",
   "metadata": {},
   "outputs": [
    {
     "data": {
      "text/plain": [
       "64"
      ]
     },
     "execution_count": 2,
     "metadata": {},
     "output_type": "execute_result"
    }
   ],
   "source": [
    "87-23"
   ]
  },
  {
   "cell_type": "code",
   "execution_count": 3,
   "id": "d30ec031",
   "metadata": {},
   "outputs": [
    {
     "data": {
      "text/plain": [
       "8.0"
      ]
     },
     "execution_count": 3,
     "metadata": {},
     "output_type": "execute_result"
    }
   ],
   "source": [
    "24/3"
   ]
  },
  {
   "cell_type": "code",
   "execution_count": 4,
   "id": "1322956c",
   "metadata": {},
   "outputs": [
    {
     "data": {
      "text/plain": [
       "20"
      ]
     },
     "execution_count": 4,
     "metadata": {},
     "output_type": "execute_result"
    }
   ],
   "source": [
    "40//2"
   ]
  },
  {
   "cell_type": "code",
   "execution_count": 5,
   "id": "de9ec966",
   "metadata": {},
   "outputs": [
    {
     "data": {
      "text/plain": [
       "27"
      ]
     },
     "execution_count": 5,
     "metadata": {},
     "output_type": "execute_result"
    }
   ],
   "source": [
    "3**3"
   ]
  },
  {
   "cell_type": "code",
   "execution_count": 6,
   "id": "4aeb1f0b",
   "metadata": {},
   "outputs": [
    {
     "data": {
      "text/plain": [
       "54"
      ]
     },
     "execution_count": 6,
     "metadata": {},
     "output_type": "execute_result"
    }
   ],
   "source": [
    "27*2"
   ]
  },
  {
   "cell_type": "code",
   "execution_count": 7,
   "id": "d62e9b19",
   "metadata": {},
   "outputs": [
    {
     "data": {
      "text/plain": [
       "1"
      ]
     },
     "execution_count": 7,
     "metadata": {},
     "output_type": "execute_result"
    }
   ],
   "source": [
    "100%3"
   ]
  },
  {
   "cell_type": "code",
   "execution_count": 8,
   "id": "e50a7712",
   "metadata": {},
   "outputs": [
    {
     "data": {
      "text/plain": [
       "1.75"
      ]
     },
     "execution_count": 8,
     "metadata": {},
     "output_type": "execute_result"
    }
   ],
   "source": [
    "((2+5)*(1+2))/(4*3)"
   ]
  },
  {
   "cell_type": "markdown",
   "id": "9ecb6c79",
   "metadata": {},
   "source": [
    "## Solving multi-step problems using variables"
   ]
  },
  {
   "cell_type": "code",
   "execution_count": 9,
   "id": "a184d646",
   "metadata": {},
   "outputs": [
    {
     "name": "stdout",
     "output_type": "stream",
     "text": [
      "Children population in town is :  117578\n"
     ]
    }
   ],
   "source": [
    "total_population = 198568\n",
    "men_population=45312\n",
    "women_population=35678\n",
    "children_population=total_population-(men_population+women_population)\n",
    "print(\"Children population in town is : \",children_population)"
   ]
  },
  {
   "cell_type": "code",
   "execution_count": 10,
   "id": "c28a1623",
   "metadata": {},
   "outputs": [
    {
     "name": "stdout",
     "output_type": "stream",
     "text": [
      "Profit make by selling 500 bags is $ 125.0\n"
     ]
    }
   ],
   "source": [
    "cost_of_ice_bag=1.25\n",
    "profit_margin=.2\n",
    "number_of_bags=500\n",
    "profit_per_bag=profit_margin*cost_of_ice_bag\n",
    "total_profit=profit_per_bag*number_of_bags\n",
    "print(\"Profit make by selling 500 bags is $\",total_profit)"
   ]
  },
  {
   "cell_type": "code",
   "execution_count": 11,
   "id": "e9950a2e",
   "metadata": {},
   "outputs": [
    {
     "name": "stdout",
     "output_type": "stream",
     "text": [
      "Profit made by company is $ 800\n"
     ]
    }
   ],
   "source": [
    "cost_per_trip=5000\n",
    "number_of_people=29\n",
    "cost_per_ticket=200\n",
    "profit=(number_of_people*cost_per_ticket)-cost_per_trip\n",
    "print(\"Profit made by company is $\", profit)"
   ]
  },
  {
   "cell_type": "markdown",
   "id": "a8429b9e",
   "metadata": {},
   "source": [
    "## Evaluating conditions using Python"
   ]
  },
  {
   "cell_type": "code",
   "execution_count": 12,
   "id": "7ff4627a",
   "metadata": {},
   "outputs": [],
   "source": [
    "my_fav_num=1\n",
    "my_least_fav_num=5\n",
    "a_neu_num=3"
   ]
  },
  {
   "cell_type": "code",
   "execution_count": 13,
   "id": "eebffe91",
   "metadata": {},
   "outputs": [
    {
     "data": {
      "text/plain": [
       "True"
      ]
     },
     "execution_count": 13,
     "metadata": {},
     "output_type": "execute_result"
    }
   ],
   "source": [
    "my_fav_num==1"
   ]
  },
  {
   "cell_type": "code",
   "execution_count": 14,
   "id": "201aacee",
   "metadata": {},
   "outputs": [
    {
     "data": {
      "text/plain": [
       "False"
      ]
     },
     "execution_count": 14,
     "metadata": {},
     "output_type": "execute_result"
    }
   ],
   "source": [
    "my_fav_num==a_neu_num"
   ]
  },
  {
   "cell_type": "code",
   "execution_count": 15,
   "id": "bdd1a286",
   "metadata": {},
   "outputs": [
    {
     "data": {
      "text/plain": [
       "True"
      ]
     },
     "execution_count": 15,
     "metadata": {},
     "output_type": "execute_result"
    }
   ],
   "source": [
    "my_fav_num!=my_least_fav_num"
   ]
  },
  {
   "cell_type": "code",
   "execution_count": 16,
   "id": "c7142a1f",
   "metadata": {},
   "outputs": [
    {
     "data": {
      "text/plain": [
       "False"
      ]
     },
     "execution_count": 16,
     "metadata": {},
     "output_type": "execute_result"
    }
   ],
   "source": [
    "a_neu_num!=3"
   ]
  },
  {
   "cell_type": "code",
   "execution_count": 17,
   "id": "f141f639",
   "metadata": {},
   "outputs": [
    {
     "data": {
      "text/plain": [
       "True"
      ]
     },
     "execution_count": 17,
     "metadata": {},
     "output_type": "execute_result"
    }
   ],
   "source": [
    "my_least_fav_num>a_neu_num"
   ]
  },
  {
   "cell_type": "code",
   "execution_count": 18,
   "id": "bb693d3f",
   "metadata": {},
   "outputs": [
    {
     "data": {
      "text/plain": [
       "False"
      ]
     },
     "execution_count": 18,
     "metadata": {},
     "output_type": "execute_result"
    }
   ],
   "source": [
    "my_fav_num>my_least_fav_num"
   ]
  },
  {
   "cell_type": "code",
   "execution_count": 19,
   "id": "5ba54d65",
   "metadata": {},
   "outputs": [
    {
     "data": {
      "text/plain": [
       "True"
      ]
     },
     "execution_count": 19,
     "metadata": {},
     "output_type": "execute_result"
    }
   ],
   "source": [
    "my_fav_num<10"
   ]
  },
  {
   "cell_type": "code",
   "execution_count": 20,
   "id": "7a223377",
   "metadata": {},
   "outputs": [
    {
     "data": {
      "text/plain": [
       "False"
      ]
     },
     "execution_count": 20,
     "metadata": {},
     "output_type": "execute_result"
    }
   ],
   "source": [
    "my_least_fav_num<my_fav_num"
   ]
  },
  {
   "cell_type": "code",
   "execution_count": 21,
   "id": "dd2669d2",
   "metadata": {},
   "outputs": [
    {
     "data": {
      "text/plain": [
       "True"
      ]
     },
     "execution_count": 21,
     "metadata": {},
     "output_type": "execute_result"
    }
   ],
   "source": [
    "my_fav_num>=1"
   ]
  },
  {
   "cell_type": "code",
   "execution_count": 22,
   "id": "cc348360",
   "metadata": {},
   "outputs": [
    {
     "data": {
      "text/plain": [
       "False"
      ]
     },
     "execution_count": 22,
     "metadata": {},
     "output_type": "execute_result"
    }
   ],
   "source": [
    "my_fav_num>=3"
   ]
  },
  {
   "cell_type": "code",
   "execution_count": 23,
   "id": "fbae90b1",
   "metadata": {},
   "outputs": [
    {
     "data": {
      "text/plain": [
       "False"
      ]
     },
     "execution_count": 23,
     "metadata": {},
     "output_type": "execute_result"
    }
   ],
   "source": [
    "my_fav_num>=my_least_fav_num"
   ]
  },
  {
   "cell_type": "code",
   "execution_count": 24,
   "id": "68b9561a",
   "metadata": {},
   "outputs": [
    {
     "data": {
      "text/plain": [
       "True"
      ]
     },
     "execution_count": 24,
     "metadata": {},
     "output_type": "execute_result"
    }
   ],
   "source": [
    "3+6>=9"
   ]
  },
  {
   "cell_type": "code",
   "execution_count": 25,
   "id": "52e94753",
   "metadata": {},
   "outputs": [
    {
     "name": "stdout",
     "output_type": "stream",
     "text": [
      "enter cost of gold : 40000\n",
      "Is gold expensive! ? False\n"
     ]
    }
   ],
   "source": [
    "cost_of_gold=int(input(\"enter cost of gold : \"))\n",
    "# cost_of_gold=790000\n",
    "is_gold_expensive=cost_of_gold>=500000\n",
    "print(\"Is gold expensive! ?\",is_gold_expensive)"
   ]
  },
  {
   "cell_type": "markdown",
   "id": "bd853c91",
   "metadata": {},
   "source": [
    "## combining conditions with logical operators"
   ]
  },
  {
   "cell_type": "markdown",
   "id": "621ba2fe",
   "metadata": {},
   "source": [
    "### and operator "
   ]
  },
  {
   "cell_type": "code",
   "execution_count": 26,
   "id": "8204b5a7",
   "metadata": {},
   "outputs": [
    {
     "data": {
      "text/plain": [
       "1"
      ]
     },
     "execution_count": 26,
     "metadata": {},
     "output_type": "execute_result"
    }
   ],
   "source": [
    "my_fav_num"
   ]
  },
  {
   "cell_type": "code",
   "execution_count": 27,
   "id": "9b05731a",
   "metadata": {},
   "outputs": [
    {
     "data": {
      "text/plain": [
       "True"
      ]
     },
     "execution_count": 27,
     "metadata": {},
     "output_type": "execute_result"
    }
   ],
   "source": [
    "my_fav_num>0 and my_fav_num<=3"
   ]
  },
  {
   "cell_type": "code",
   "execution_count": 28,
   "id": "e171fbf7",
   "metadata": {},
   "outputs": [
    {
     "data": {
      "text/plain": [
       "False"
      ]
     },
     "execution_count": 28,
     "metadata": {},
     "output_type": "execute_result"
    }
   ],
   "source": [
    "my_fav_num<0 and my_fav_num<=3"
   ]
  },
  {
   "cell_type": "code",
   "execution_count": 29,
   "id": "818fa6be",
   "metadata": {},
   "outputs": [
    {
     "data": {
      "text/plain": [
       "False"
      ]
     },
     "execution_count": 29,
     "metadata": {},
     "output_type": "execute_result"
    }
   ],
   "source": [
    "my_fav_num > 0 and my_fav_num >= 3"
   ]
  },
  {
   "cell_type": "code",
   "execution_count": 30,
   "id": "1abed4ac",
   "metadata": {},
   "outputs": [
    {
     "data": {
      "text/plain": [
       "False"
      ]
     },
     "execution_count": 30,
     "metadata": {},
     "output_type": "execute_result"
    }
   ],
   "source": [
    "True and False"
   ]
  },
  {
   "cell_type": "code",
   "execution_count": 31,
   "id": "c7540d80",
   "metadata": {},
   "outputs": [
    {
     "data": {
      "text/plain": [
       "False"
      ]
     },
     "execution_count": 31,
     "metadata": {},
     "output_type": "execute_result"
    }
   ],
   "source": [
    "False and False"
   ]
  },
  {
   "cell_type": "code",
   "execution_count": 32,
   "id": "9fce1908",
   "metadata": {},
   "outputs": [
    {
     "data": {
      "text/plain": [
       "True"
      ]
     },
     "execution_count": 32,
     "metadata": {},
     "output_type": "execute_result"
    }
   ],
   "source": [
    "True and True"
   ]
  },
  {
   "cell_type": "markdown",
   "id": "e942f038",
   "metadata": {},
   "source": [
    "### or operator"
   ]
  },
  {
   "cell_type": "code",
   "execution_count": 33,
   "id": "edcd6510",
   "metadata": {},
   "outputs": [],
   "source": [
    "a_neu_num=3"
   ]
  },
  {
   "cell_type": "code",
   "execution_count": 34,
   "id": "c593098a",
   "metadata": {},
   "outputs": [
    {
     "data": {
      "text/plain": [
       "True"
      ]
     },
     "execution_count": 34,
     "metadata": {},
     "output_type": "execute_result"
    }
   ],
   "source": [
    "a_neu_num==3 or my_fav_num<0"
   ]
  },
  {
   "cell_type": "code",
   "execution_count": 35,
   "id": "a712c0d8",
   "metadata": {},
   "outputs": [
    {
     "data": {
      "text/plain": [
       "False"
      ]
     },
     "execution_count": 35,
     "metadata": {},
     "output_type": "execute_result"
    }
   ],
   "source": [
    "a_neu_num !=3 or my_fav_num<0"
   ]
  },
  {
   "cell_type": "code",
   "execution_count": 36,
   "id": "b407796c",
   "metadata": {},
   "outputs": [
    {
     "data": {
      "text/plain": [
       "True"
      ]
     },
     "execution_count": 36,
     "metadata": {},
     "output_type": "execute_result"
    }
   ],
   "source": [
    "my_fav_num<0 or True"
   ]
  },
  {
   "cell_type": "code",
   "execution_count": 37,
   "id": "69028204",
   "metadata": {},
   "outputs": [
    {
     "data": {
      "text/plain": [
       "False"
      ]
     },
     "execution_count": 37,
     "metadata": {},
     "output_type": "execute_result"
    }
   ],
   "source": [
    "False or False"
   ]
  },
  {
   "cell_type": "markdown",
   "id": "b6acb5a6",
   "metadata": {},
   "source": [
    "### not operator\n",
    "#### The `not` operator returns `False` if a condition is `True` and`True` if the condition is `False`."
   ]
  },
  {
   "cell_type": "code",
   "execution_count": 38,
   "id": "cab437f1",
   "metadata": {},
   "outputs": [
    {
     "data": {
      "text/plain": [
       "False"
      ]
     },
     "execution_count": 38,
     "metadata": {},
     "output_type": "execute_result"
    }
   ],
   "source": [
    "not a_neu_num==3"
   ]
  },
  {
   "cell_type": "code",
   "execution_count": 39,
   "id": "a2d23bfe",
   "metadata": {},
   "outputs": [
    {
     "data": {
      "text/plain": [
       "True"
      ]
     },
     "execution_count": 39,
     "metadata": {},
     "output_type": "execute_result"
    }
   ],
   "source": [
    "not my_fav_num<0"
   ]
  },
  {
   "cell_type": "code",
   "execution_count": 40,
   "id": "e11bcefc",
   "metadata": {},
   "outputs": [
    {
     "data": {
      "text/plain": [
       "True"
      ]
     },
     "execution_count": 40,
     "metadata": {},
     "output_type": "execute_result"
    }
   ],
   "source": [
    "not False"
   ]
  },
  {
   "cell_type": "code",
   "execution_count": 41,
   "id": "0463684b",
   "metadata": {},
   "outputs": [
    {
     "data": {
      "text/plain": [
       "False"
      ]
     },
     "execution_count": 41,
     "metadata": {},
     "output_type": "execute_result"
    }
   ],
   "source": [
    "not True"
   ]
  },
  {
   "cell_type": "markdown",
   "id": "6503ad4e",
   "metadata": {},
   "source": [
    "### Logical operators can be combined to form complex conditions. Use round brackets or parentheses `(` and `)` to indicate the order in which logical operators should be applied."
   ]
  },
  {
   "cell_type": "code",
   "execution_count": 42,
   "id": "0dbc1e4d",
   "metadata": {},
   "outputs": [
    {
     "data": {
      "text/plain": [
       "True"
      ]
     },
     "execution_count": 42,
     "metadata": {},
     "output_type": "execute_result"
    }
   ],
   "source": [
    "(2>3 and 5>=6) or not (my_fav_num<0 and True)"
   ]
  },
  {
   "cell_type": "code",
   "execution_count": 43,
   "id": "91ad16bf",
   "metadata": {},
   "outputs": [
    {
     "data": {
      "text/plain": [
       "True"
      ]
     },
     "execution_count": 43,
     "metadata": {},
     "output_type": "execute_result"
    }
   ],
   "source": [
    "not (True and 2<0) or (False and True)"
   ]
  },
  {
   "cell_type": "code",
   "execution_count": 44,
   "id": "73f0ae4b",
   "metadata": {},
   "outputs": [
    {
     "data": {
      "text/plain": [
       "True"
      ]
     },
     "execution_count": 44,
     "metadata": {},
     "output_type": "execute_result"
    }
   ],
   "source": [
    "not my_fav_num<0"
   ]
  },
  {
   "cell_type": "markdown",
   "id": "cc0bc0cb",
   "metadata": {},
   "source": [
    "#### If parentheses are not used, logical operators are applied from left to right."
   ]
  },
  {
   "cell_type": "code",
   "execution_count": 45,
   "id": "53ec9580",
   "metadata": {},
   "outputs": [
    {
     "data": {
      "text/plain": [
       "False"
      ]
     },
     "execution_count": 45,
     "metadata": {},
     "output_type": "execute_result"
    }
   ],
   "source": [
    "not True and 0 < 1 or False and True"
   ]
  },
  {
   "cell_type": "code",
   "execution_count": null,
   "id": "bf4edf57",
   "metadata": {},
   "outputs": [],
   "source": []
  },
  {
   "cell_type": "code",
   "execution_count": null,
   "id": "bffc084b",
   "metadata": {},
   "outputs": [],
   "source": []
  }
 ],
 "metadata": {
  "kernelspec": {
   "display_name": "Python 3",
   "language": "python",
   "name": "python3"
  },
  "language_info": {
   "codemirror_mode": {
    "name": "ipython",
    "version": 3
   },
   "file_extension": ".py",
   "mimetype": "text/x-python",
   "name": "python",
   "nbconvert_exporter": "python",
   "pygments_lexer": "ipython3",
   "version": "3.9.7"
  }
 },
 "nbformat": 4,
 "nbformat_minor": 5
}
